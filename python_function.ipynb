{
  "nbformat": 4,
  "nbformat_minor": 0,
  "metadata": {
    "colab": {
      "name": "python function.ipynb",
      "provenance": [],
      "collapsed_sections": []
    },
    "kernelspec": {
      "name": "python3",
      "display_name": "Python 3"
    },
    "language_info": {
      "name": "python"
    }
  },
  "cells": [
    {
      "cell_type": "code",
      "execution_count": null,
      "metadata": {
        "colab": {
          "base_uri": "https://localhost:8080/"
        },
        "id": "goXyijTb_L_-",
        "outputId": "bb404e25-67b1-4a03-a501-d67146e18b82"
      },
      "outputs": [
        {
          "output_type": "stream",
          "name": "stdout",
          "text": [
            "number is even\n"
          ]
        }
      ],
      "source": [
        "num = 24\n",
        "if num%2 == 0:\n",
        "  print('number is even')\n",
        "else:\n",
        "  print('number is odd')"
      ]
    },
    {
      "cell_type": "code",
      "source": [
        "def even_odd(num):\n",
        "  if num%2 == 0:\n",
        "    print('number is even')\n",
        "  else:\n",
        "    print('number is odd')\n",
        "    "
      ],
      "metadata": {
        "id": "ONxRtf3b_foD"
      },
      "execution_count": null,
      "outputs": []
    },
    {
      "cell_type": "code",
      "source": [
        "even_odd(24)"
      ],
      "metadata": {
        "colab": {
          "base_uri": "https://localhost:8080/"
        },
        "id": "7ScEzOdB_ziC",
        "outputId": "c2577978-0d37-4eec-a88b-3033f351ef34"
      },
      "execution_count": null,
      "outputs": [
        {
          "output_type": "stream",
          "name": "stdout",
          "text": [
            "number is even\n"
          ]
        }
      ]
    },
    {
      "cell_type": "markdown",
      "source": [
        "print vs return"
      ],
      "metadata": {
        "id": "875WIge7APg7"
      }
    },
    {
      "cell_type": "code",
      "source": [
        "def hello():\n",
        "  print('hello welcome')"
      ],
      "metadata": {
        "id": "xlcSW3iQ_39E"
      },
      "execution_count": null,
      "outputs": []
    },
    {
      "cell_type": "code",
      "source": [
        "val = hello()"
      ],
      "metadata": {
        "colab": {
          "base_uri": "https://localhost:8080/"
        },
        "id": "-4ts8O4CAYzh",
        "outputId": "73b6a526-b7c1-43e1-c8bd-6b4cd9f99182"
      },
      "execution_count": null,
      "outputs": [
        {
          "output_type": "stream",
          "name": "stdout",
          "text": [
            "hello welcome\n"
          ]
        }
      ]
    },
    {
      "cell_type": "code",
      "source": [
        "print(val)"
      ],
      "metadata": {
        "colab": {
          "base_uri": "https://localhost:8080/"
        },
        "id": "GL5WFC5cAawK",
        "outputId": "ae81b170-b5a2-4c12-c780-0bf0ca93e5c4"
      },
      "execution_count": null,
      "outputs": [
        {
          "output_type": "stream",
          "name": "stdout",
          "text": [
            "None\n"
          ]
        }
      ]
    },
    {
      "cell_type": "code",
      "source": [
        "def hello():\n",
        "  return'hello welcome'"
      ],
      "metadata": {
        "id": "NtSGcw8hAp1w"
      },
      "execution_count": null,
      "outputs": []
    },
    {
      "cell_type": "code",
      "source": [
        "val = hello()"
      ],
      "metadata": {
        "id": "WBhluF-BA3Z0"
      },
      "execution_count": null,
      "outputs": []
    },
    {
      "cell_type": "code",
      "source": [
        "print(val)"
      ],
      "metadata": {
        "colab": {
          "base_uri": "https://localhost:8080/"
        },
        "id": "rnOxrOs0A8az",
        "outputId": "5817a641-18b7-438c-e971-e84799ad6fca"
      },
      "execution_count": null,
      "outputs": [
        {
          "output_type": "stream",
          "name": "stdout",
          "text": [
            "hello welcome\n"
          ]
        }
      ]
    },
    {
      "cell_type": "code",
      "source": [
        "def add_number (num1 , num2):\n",
        "  return num1+num2"
      ],
      "metadata": {
        "id": "uOJd_Wd3A-dX"
      },
      "execution_count": null,
      "outputs": []
    },
    {
      "cell_type": "code",
      "source": [
        "val = add_number(24 , 48)"
      ],
      "metadata": {
        "id": "THyfI7VMK8VY"
      },
      "execution_count": null,
      "outputs": []
    },
    {
      "cell_type": "code",
      "source": [
        "print(val)"
      ],
      "metadata": {
        "colab": {
          "base_uri": "https://localhost:8080/"
        },
        "id": "p2sf9b7vLAr4",
        "outputId": "71fb4e8f-eb33-46a0-b262-220f33ecf009"
      },
      "execution_count": null,
      "outputs": [
        {
          "output_type": "stream",
          "name": "stdout",
          "text": [
            "72\n"
          ]
        }
      ]
    },
    {
      "cell_type": "code",
      "source": [
        "def hello( name , age =12):\n",
        "  print('my name is {} and age is {}'.format(name , age))"
      ],
      "metadata": {
        "id": "o4I3DfdaLCPw"
      },
      "execution_count": null,
      "outputs": []
    },
    {
      "cell_type": "code",
      "source": [
        "hello('sam')"
      ],
      "metadata": {
        "colab": {
          "base_uri": "https://localhost:8080/"
        },
        "id": "0UHKGkKDLoL3",
        "outputId": "f5417a8b-4928-4dce-9947-93dfd348f04a"
      },
      "execution_count": null,
      "outputs": [
        {
          "output_type": "stream",
          "name": "stdout",
          "text": [
            "my name is sam and age is 12\n"
          ]
        }
      ]
    },
    {
      "cell_type": "code",
      "source": [
        "list1 = [1,2,3,4,5,6,7]"
      ],
      "metadata": {
        "id": "jZ2ht3THLs6_"
      },
      "execution_count": null,
      "outputs": []
    },
    {
      "cell_type": "code",
      "source": [
        "def evenoddsum(list1):\n",
        "  even_sum = 0\n",
        "  odd_sum = 0\n",
        "  for i in list1:\n",
        "    if i%2 == 0:\n",
        "      even_sum = even_sum + i\n",
        "    else:\n",
        "      odd_sum = odd_sum + i\n",
        "  return even_sum , odd_sum\n"
      ],
      "metadata": {
        "id": "avGxswsXP7Vv"
      },
      "execution_count": null,
      "outputs": []
    },
    {
      "cell_type": "code",
      "source": [
        "evenoddsum(list1)"
      ],
      "metadata": {
        "colab": {
          "base_uri": "https://localhost:8080/"
        },
        "id": "Zpr_13yKRah9",
        "outputId": "b1902b0d-7f76-4f07-f91c-61995a0c1f97"
      },
      "execution_count": null,
      "outputs": [
        {
          "output_type": "execute_result",
          "data": {
            "text/plain": [
              "(12, 16)"
            ]
          },
          "metadata": {},
          "execution_count": 38
        }
      ]
    },
    {
      "cell_type": "markdown",
      "source": [
        "Map function in python"
      ],
      "metadata": {
        "id": "OWwJEtomUtHm"
      }
    },
    {
      "cell_type": "code",
      "source": [
        "def even_odd1(num):\n",
        "  if num%2 == 0:\n",
        "    return(\"the number {} is even\".format(num))\n",
        "  else:\n",
        "    return(\"the number {} is odd\".format(num))\n"
      ],
      "metadata": {
        "id": "QLLBTBpxRf9M"
      },
      "execution_count": null,
      "outputs": []
    },
    {
      "cell_type": "code",
      "source": [
        "even_odd1(13)"
      ],
      "metadata": {
        "colab": {
          "base_uri": "https://localhost:8080/",
          "height": 35
        },
        "id": "8AB3DgXNVHVH",
        "outputId": "4cf5d590-afb9-4568-e581-b6d8b9d63c28"
      },
      "execution_count": null,
      "outputs": [
        {
          "output_type": "execute_result",
          "data": {
            "application/vnd.google.colaboratory.intrinsic+json": {
              "type": "string"
            },
            "text/plain": [
              "'the number 13 is odd'"
            ]
          },
          "metadata": {},
          "execution_count": 46
        }
      ]
    },
    {
      "cell_type": "code",
      "source": [
        "list2 = [1,2,3,4,5,6,7,8,9,10,11,12,13]"
      ],
      "metadata": {
        "id": "vfSAuNbZVJUW"
      },
      "execution_count": null,
      "outputs": []
    },
    {
      "cell_type": "code",
      "source": [
        "map(even_odd1 , list2)"
      ],
      "metadata": {
        "colab": {
          "base_uri": "https://localhost:8080/"
        },
        "id": "_YSEldtwWABN",
        "outputId": "df784685-5f39-4b6a-de00-73debd080543"
      },
      "execution_count": null,
      "outputs": [
        {
          "output_type": "execute_result",
          "data": {
            "text/plain": [
              "<map at 0x7f23897a3b50>"
            ]
          },
          "metadata": {},
          "execution_count": 48
        }
      ]
    },
    {
      "cell_type": "code",
      "source": [
        "list(map(even_odd , list1))"
      ],
      "metadata": {
        "colab": {
          "base_uri": "https://localhost:8080/"
        },
        "id": "SSXPuPh6WEjp",
        "outputId": "f7563c5a-5904-4e24-9a2c-a886416989f1"
      },
      "execution_count": null,
      "outputs": [
        {
          "output_type": "stream",
          "name": "stdout",
          "text": [
            "number is odd\n",
            "number is even\n",
            "number is odd\n",
            "number is even\n",
            "number is odd\n",
            "number is even\n",
            "number is odd\n"
          ]
        },
        {
          "output_type": "execute_result",
          "data": {
            "text/plain": [
              "[None, None, None, None, None, None, None]"
            ]
          },
          "metadata": {},
          "execution_count": 49
        }
      ]
    },
    {
      "cell_type": "markdown",
      "source": [
        "Lamda function"
      ],
      "metadata": {
        "id": "LsiI6ypGvnQF"
      }
    },
    {
      "cell_type": "code",
      "source": [
        "# anonymus function a function with no name\n",
        "def addition(a,b):\n",
        "  return a + b"
      ],
      "metadata": {
        "id": "lOVENM7Ivm1T"
      },
      "execution_count": null,
      "outputs": []
    },
    {
      "cell_type": "code",
      "source": [
        "addition(12,14)"
      ],
      "metadata": {
        "id": "1bMxaCJTWNcX",
        "colab": {
          "base_uri": "https://localhost:8080/"
        },
        "outputId": "fedc4333-0da7-483a-88a8-a577f3ace396"
      },
      "execution_count": null,
      "outputs": [
        {
          "output_type": "execute_result",
          "data": {
            "text/plain": [
              "26"
            ]
          },
          "metadata": {},
          "execution_count": 3
        }
      ]
    },
    {
      "cell_type": "code",
      "source": [
        "addition1 = lambda a,b : a+b"
      ],
      "metadata": {
        "id": "VjY_RAr-wwCU"
      },
      "execution_count": null,
      "outputs": []
    },
    {
      "cell_type": "code",
      "source": [
        "addition1(12,14)"
      ],
      "metadata": {
        "colab": {
          "base_uri": "https://localhost:8080/"
        },
        "id": "p9aGLcmDxEg7",
        "outputId": "8a06c5e4-4195-4e37-a05a-8df1e782cc70"
      },
      "execution_count": null,
      "outputs": [
        {
          "output_type": "execute_result",
          "data": {
            "text/plain": [
              "26"
            ]
          },
          "metadata": {},
          "execution_count": 7
        }
      ]
    },
    {
      "cell_type": "code",
      "source": [
        "def even_num(num):\n",
        "  if num % 2 ==0:\n",
        "    return True"
      ],
      "metadata": {
        "id": "RHRAvp8oxGQ-"
      },
      "execution_count": null,
      "outputs": []
    },
    {
      "cell_type": "code",
      "source": [
        "even_num(24)"
      ],
      "metadata": {
        "colab": {
          "base_uri": "https://localhost:8080/"
        },
        "id": "Ai3l0_x8xldv",
        "outputId": "b16d905a-8fe5-410b-e568-e07f250c3a84"
      },
      "execution_count": null,
      "outputs": [
        {
          "output_type": "execute_result",
          "data": {
            "text/plain": [
              "True"
            ]
          },
          "metadata": {},
          "execution_count": 14
        }
      ]
    },
    {
      "cell_type": "code",
      "source": [
        "even1 = lambda num : num%2 == 0"
      ],
      "metadata": {
        "id": "KWkWHKosxngE"
      },
      "execution_count": null,
      "outputs": []
    },
    {
      "cell_type": "code",
      "source": [
        "even1(24)"
      ],
      "metadata": {
        "colab": {
          "base_uri": "https://localhost:8080/"
        },
        "id": "rFjfLXI_xwke",
        "outputId": "adec772c-c364-443d-fa98-a07f581240d7"
      },
      "execution_count": null,
      "outputs": [
        {
          "output_type": "execute_result",
          "data": {
            "text/plain": [
              "True"
            ]
          },
          "metadata": {},
          "execution_count": 12
        }
      ]
    },
    {
      "cell_type": "code",
      "source": [
        "def addition(x,y,z):\n",
        "  return x+y+z"
      ],
      "metadata": {
        "id": "DcQlnh9OxygC"
      },
      "execution_count": null,
      "outputs": []
    },
    {
      "cell_type": "code",
      "source": [
        "addition(3,3,3)"
      ],
      "metadata": {
        "colab": {
          "base_uri": "https://localhost:8080/"
        },
        "id": "YcZrGLtjyLiq",
        "outputId": "0b433c17-9df6-43b4-cfea-521039e97229"
      },
      "execution_count": null,
      "outputs": [
        {
          "output_type": "execute_result",
          "data": {
            "text/plain": [
              "9"
            ]
          },
          "metadata": {},
          "execution_count": 17
        }
      ]
    },
    {
      "cell_type": "code",
      "source": [
        "total = lambda a,b,c : a+b+c"
      ],
      "metadata": {
        "id": "V2vZXQ0pyO7J"
      },
      "execution_count": null,
      "outputs": []
    },
    {
      "cell_type": "code",
      "source": [
        "total(3,3,3)"
      ],
      "metadata": {
        "colab": {
          "base_uri": "https://localhost:8080/"
        },
        "id": "5SBz01NzydEj",
        "outputId": "b2a371d5-be2b-429f-9f50-df2c93f1a971"
      },
      "execution_count": null,
      "outputs": [
        {
          "output_type": "execute_result",
          "data": {
            "text/plain": [
              "9"
            ]
          },
          "metadata": {},
          "execution_count": 19
        }
      ]
    },
    {
      "cell_type": "markdown",
      "source": [
        "Filter function in python"
      ],
      "metadata": {
        "id": "0dawdd4Uy2fm"
      }
    },
    {
      "cell_type": "code",
      "source": [
        "def even_odd(num):\n",
        "  if num%2 == 0:\n",
        "    return True"
      ],
      "metadata": {
        "id": "JFja4LiMyfGx"
      },
      "execution_count": null,
      "outputs": []
    },
    {
      "cell_type": "code",
      "source": [
        "list2 = [1,2,3,4,5,6,7,8,9,10]"
      ],
      "metadata": {
        "id": "d_rxGmeazgMr"
      },
      "execution_count": null,
      "outputs": []
    },
    {
      "cell_type": "code",
      "source": [
        "list(filter(even_odd , list2))"
      ],
      "metadata": {
        "colab": {
          "base_uri": "https://localhost:8080/"
        },
        "id": "vFUfsEtJzkT1",
        "outputId": "496471f6-9fd9-4bb9-cebf-b06abba62d35"
      },
      "execution_count": null,
      "outputs": [
        {
          "output_type": "execute_result",
          "data": {
            "text/plain": [
              "[2, 4, 6, 8, 10]"
            ]
          },
          "metadata": {},
          "execution_count": 24
        }
      ]
    },
    {
      "cell_type": "code",
      "source": [
        "# using filter in lambda function\n",
        "\n",
        "filter(lambda a : a%2 == 0, list2)"
      ],
      "metadata": {
        "colab": {
          "base_uri": "https://localhost:8080/"
        },
        "id": "BQ1BPHX7zzKP",
        "outputId": "a594a57e-ce64-4e6e-b544-97b191bc7306"
      },
      "execution_count": null,
      "outputs": [
        {
          "output_type": "execute_result",
          "data": {
            "text/plain": [
              "<filter at 0x7f040756f150>"
            ]
          },
          "metadata": {},
          "execution_count": 25
        }
      ]
    },
    {
      "cell_type": "code",
      "source": [
        "list(filter(lambda b : b%2 ==0 , list2))"
      ],
      "metadata": {
        "colab": {
          "base_uri": "https://localhost:8080/"
        },
        "id": "v96ozLFC0TTM",
        "outputId": "d33e85ea-9d7c-47ac-a728-1394637f3a74"
      },
      "execution_count": null,
      "outputs": [
        {
          "output_type": "execute_result",
          "data": {
            "text/plain": [
              "[2, 4, 6, 8, 10]"
            ]
          },
          "metadata": {},
          "execution_count": 26
        }
      ]
    },
    {
      "cell_type": "code",
      "source": [
        "list(map(lambda c : c%2 == 0 , list2))"
      ],
      "metadata": {
        "colab": {
          "base_uri": "https://localhost:8080/"
        },
        "id": "pTWme7Rd0bDx",
        "outputId": "7c9613a2-21c2-4483-d330-e490cd02a15a"
      },
      "execution_count": null,
      "outputs": [
        {
          "output_type": "execute_result",
          "data": {
            "text/plain": [
              "[False, True, False, True, False, True, False, True, False, True]"
            ]
          },
          "metadata": {},
          "execution_count": 27
        }
      ]
    },
    {
      "cell_type": "markdown",
      "source": [
        "List comprehension"
      ],
      "metadata": {
        "id": "GwOh5oG92HIe"
      }
    },
    {
      "cell_type": "code",
      "source": [
        "list4 = []\n",
        "\n",
        "def hello(num):\n",
        "  for i in num:\n",
        "    list4.append(i*i)\n",
        "  return list4"
      ],
      "metadata": {
        "id": "hmxIMSD00qmH"
      },
      "execution_count": null,
      "outputs": []
    },
    {
      "cell_type": "code",
      "source": [
        "hello([1,2,3,4,5,6,7,8,9])"
      ],
      "metadata": {
        "colab": {
          "base_uri": "https://localhost:8080/"
        },
        "id": "LxeWQ5YN2bGQ",
        "outputId": "c03f93f8-065d-46cb-8aac-ded8d0c346e6"
      },
      "execution_count": null,
      "outputs": [
        {
          "output_type": "execute_result",
          "data": {
            "text/plain": [
              "[1, 4, 9, 16, 25, 36, 49, 64, 81]"
            ]
          },
          "metadata": {},
          "execution_count": 30
        }
      ]
    },
    {
      "cell_type": "code",
      "source": [
        "list5 = [1,2,3,4,5,6,7,8,9,10]"
      ],
      "metadata": {
        "id": "dlgfMpNq2eVt"
      },
      "execution_count": null,
      "outputs": []
    },
    {
      "cell_type": "code",
      "source": [
        "a = [i*i for i in list5]"
      ],
      "metadata": {
        "id": "bS5nw7p53nm0"
      },
      "execution_count": null,
      "outputs": []
    },
    {
      "cell_type": "code",
      "source": [
        "print(a)"
      ],
      "metadata": {
        "colab": {
          "base_uri": "https://localhost:8080/"
        },
        "id": "HrRWnQCw3vE_",
        "outputId": "adee6d51-71fc-4c64-d0cb-82375cf8e9b9"
      },
      "execution_count": null,
      "outputs": [
        {
          "output_type": "stream",
          "name": "stdout",
          "text": [
            "[1, 4, 9, 16, 25, 36, 49, 64, 81, 100]\n"
          ]
        }
      ]
    },
    {
      "cell_type": "code",
      "source": [
        "b = [a*a for a in list5 if a%2 == 0]"
      ],
      "metadata": {
        "id": "_zFWTOFa3xzS"
      },
      "execution_count": null,
      "outputs": []
    },
    {
      "cell_type": "code",
      "source": [
        "print(b)"
      ],
      "metadata": {
        "colab": {
          "base_uri": "https://localhost:8080/"
        },
        "id": "LZyVYZfL4S7b",
        "outputId": "e3736405-6ca7-4d6e-9291-80d4f2015357"
      },
      "execution_count": null,
      "outputs": [
        {
          "output_type": "stream",
          "name": "stdout",
          "text": [
            "[4, 16, 36, 64, 100]\n"
          ]
        }
      ]
    },
    {
      "cell_type": "markdown",
      "source": [
        "String formatting in python"
      ],
      "metadata": {
        "id": "gxBMk1vI4zVS"
      }
    },
    {
      "cell_type": "code",
      "source": [
        "def hello(name):\n",
        "  return 'hello {} welcome to this conference'.format(name)"
      ],
      "metadata": {
        "id": "YnzL69Rk4w3z"
      },
      "execution_count": null,
      "outputs": []
    },
    {
      "cell_type": "code",
      "source": [
        "hello('james')"
      ],
      "metadata": {
        "id": "vdRaQVjo4UOi",
        "colab": {
          "base_uri": "https://localhost:8080/",
          "height": 35
        },
        "outputId": "6245c324-757f-4bbd-c140-dde5ad49d520"
      },
      "execution_count": null,
      "outputs": [
        {
          "output_type": "execute_result",
          "data": {
            "application/vnd.google.colaboratory.intrinsic+json": {
              "type": "string"
            },
            "text/plain": [
              "'hello james welcome to this conference'"
            ]
          },
          "metadata": {},
          "execution_count": 4
        }
      ]
    },
    {
      "cell_type": "code",
      "source": [
        "def welcome(name , age):\n",
        "  return 'welcome {} you are now {} years old'.format(name , age)"
      ],
      "metadata": {
        "id": "_xYjvoWa1f0C"
      },
      "execution_count": null,
      "outputs": []
    },
    {
      "cell_type": "code",
      "source": [
        "welcome('james' , 29)"
      ],
      "metadata": {
        "colab": {
          "base_uri": "https://localhost:8080/",
          "height": 35
        },
        "id": "VjUhpHI43QHZ",
        "outputId": "59c0d53c-af1d-47ff-dccf-1f08b222cb75"
      },
      "execution_count": null,
      "outputs": [
        {
          "output_type": "execute_result",
          "data": {
            "application/vnd.google.colaboratory.intrinsic+json": {
              "type": "string"
            },
            "text/plain": [
              "'welcome james you are now 29 years old'"
            ]
          },
          "metadata": {},
          "execution_count": 6
        }
      ]
    },
    {
      "cell_type": "code",
      "source": [
        "welcome(29 , 'james')"
      ],
      "metadata": {
        "colab": {
          "base_uri": "https://localhost:8080/",
          "height": 35
        },
        "id": "CRMAmymN3bFm",
        "outputId": "28b00c2d-10a3-41a1-a55a-2f2b78877906"
      },
      "execution_count": null,
      "outputs": [
        {
          "output_type": "execute_result",
          "data": {
            "application/vnd.google.colaboratory.intrinsic+json": {
              "type": "string"
            },
            "text/plain": [
              "'welcome 29 you are now james years old'"
            ]
          },
          "metadata": {},
          "execution_count": 7
        }
      ]
    },
    {
      "cell_type": "code",
      "source": [
        "def welcome1(name , age):\n",
        "  return ' welcome {name} you are now {age} years old'.format(age = age , name = name)"
      ],
      "metadata": {
        "id": "YnZLSM7t34j0"
      },
      "execution_count": null,
      "outputs": []
    },
    {
      "cell_type": "code",
      "source": [
        "welcome1('james', 29)"
      ],
      "metadata": {
        "colab": {
          "base_uri": "https://localhost:8080/",
          "height": 35
        },
        "id": "o09UA64L4LWv",
        "outputId": "a5d15b32-7b35-4456-d96b-88a15cd32ec1"
      },
      "execution_count": null,
      "outputs": [
        {
          "output_type": "execute_result",
          "data": {
            "application/vnd.google.colaboratory.intrinsic+json": {
              "type": "string"
            },
            "text/plain": [
              "' welcome james you are now 29 years old'"
            ]
          },
          "metadata": {},
          "execution_count": 15
        }
      ]
    },
    {
      "cell_type": "markdown",
      "source": [
        "Python list iterables vs iterators"
      ],
      "metadata": {
        "id": "GwT-pcpW6EjS"
      }
    },
    {
      "cell_type": "code",
      "source": [
        "list1 = [1,2,3,4,5,6,7,8,9]"
      ],
      "metadata": {
        "id": "Lz-KRMDq6D2B"
      },
      "execution_count": null,
      "outputs": []
    },
    {
      "cell_type": "code",
      "source": [
        "for i in list1:\n",
        "  print(i)"
      ],
      "metadata": {
        "colab": {
          "base_uri": "https://localhost:8080/"
        },
        "id": "P_yTwRhu4QW2",
        "outputId": "f4511e6a-4ce0-400d-beb4-c14c6a89dfee"
      },
      "execution_count": null,
      "outputs": [
        {
          "output_type": "stream",
          "name": "stdout",
          "text": [
            "1\n",
            "2\n",
            "3\n",
            "4\n",
            "5\n",
            "6\n",
            "7\n",
            "8\n",
            "9\n"
          ]
        }
      ]
    },
    {
      "cell_type": "code",
      "source": [
        "list2 = iter(list1)"
      ],
      "metadata": {
        "id": "DUCfbKZi7ur_"
      },
      "execution_count": null,
      "outputs": []
    },
    {
      "cell_type": "code",
      "source": [
        "next(list2)"
      ],
      "metadata": {
        "colab": {
          "base_uri": "https://localhost:8080/"
        },
        "id": "do1okZfw7zXT",
        "outputId": "8c63dfce-1b2c-4d8e-dd3e-7310d465c067"
      },
      "execution_count": null,
      "outputs": [
        {
          "output_type": "execute_result",
          "data": {
            "text/plain": [
              "1"
            ]
          },
          "metadata": {},
          "execution_count": 31
        }
      ]
    },
    {
      "cell_type": "code",
      "source": [
        "next(list2)"
      ],
      "metadata": {
        "colab": {
          "base_uri": "https://localhost:8080/"
        },
        "id": "O-slyZHq753p",
        "outputId": "f084dbe2-e9ed-4f24-a722-e254214a15f0"
      },
      "execution_count": null,
      "outputs": [
        {
          "output_type": "execute_result",
          "data": {
            "text/plain": [
              "2"
            ]
          },
          "metadata": {},
          "execution_count": 32
        }
      ]
    },
    {
      "cell_type": "code",
      "source": [
        "next(list2)"
      ],
      "metadata": {
        "colab": {
          "base_uri": "https://localhost:8080/"
        },
        "id": "_krWtwoK8EGs",
        "outputId": "87709c34-9214-453b-c33c-9db8d849f777"
      },
      "execution_count": null,
      "outputs": [
        {
          "output_type": "execute_result",
          "data": {
            "text/plain": [
              "3"
            ]
          },
          "metadata": {},
          "execution_count": 33
        }
      ]
    },
    {
      "cell_type": "code",
      "source": [
        "next(list2)"
      ],
      "metadata": {
        "colab": {
          "base_uri": "https://localhost:8080/"
        },
        "id": "bG_cpO4y8Fwf",
        "outputId": "5639ed4e-97b5-4737-f5c5-792a8414b4a2"
      },
      "execution_count": null,
      "outputs": [
        {
          "output_type": "execute_result",
          "data": {
            "text/plain": [
              "4"
            ]
          },
          "metadata": {},
          "execution_count": 34
        }
      ]
    },
    {
      "cell_type": "code",
      "source": [
        "next(list2)"
      ],
      "metadata": {
        "colab": {
          "base_uri": "https://localhost:8080/"
        },
        "id": "wLoopI4q8HhD",
        "outputId": "732a32c5-dd8d-40ba-8089-930c043d4abc"
      },
      "execution_count": null,
      "outputs": [
        {
          "output_type": "execute_result",
          "data": {
            "text/plain": [
              "5"
            ]
          },
          "metadata": {},
          "execution_count": 35
        }
      ]
    },
    {
      "cell_type": "code",
      "source": [
        "next(list2)"
      ],
      "metadata": {
        "colab": {
          "base_uri": "https://localhost:8080/"
        },
        "id": "SRBrWlUp8IvJ",
        "outputId": "ab9fcd25-30f2-45fd-9c2e-65049510ef6b"
      },
      "execution_count": null,
      "outputs": [
        {
          "output_type": "execute_result",
          "data": {
            "text/plain": [
              "6"
            ]
          },
          "metadata": {},
          "execution_count": 36
        }
      ]
    },
    {
      "cell_type": "code",
      "source": [
        "next(list2)"
      ],
      "metadata": {
        "colab": {
          "base_uri": "https://localhost:8080/"
        },
        "id": "7vxfP10k8J48",
        "outputId": "93966c01-622c-41d7-9b8b-735c65fe0fe9"
      },
      "execution_count": null,
      "outputs": [
        {
          "output_type": "execute_result",
          "data": {
            "text/plain": [
              "7"
            ]
          },
          "metadata": {},
          "execution_count": 37
        }
      ]
    },
    {
      "cell_type": "code",
      "source": [
        "next(list2)"
      ],
      "metadata": {
        "colab": {
          "base_uri": "https://localhost:8080/"
        },
        "id": "5HxRMLaj8LK9",
        "outputId": "c8ea54dd-7e45-4bf9-887b-a3029bf6f542"
      },
      "execution_count": null,
      "outputs": [
        {
          "output_type": "execute_result",
          "data": {
            "text/plain": [
              "8"
            ]
          },
          "metadata": {},
          "execution_count": 38
        }
      ]
    },
    {
      "cell_type": "code",
      "source": [
        "next(list2)"
      ],
      "metadata": {
        "colab": {
          "base_uri": "https://localhost:8080/"
        },
        "id": "WLWS1Qig8Mdb",
        "outputId": "27782eff-8940-47e2-9cc7-332c73102b3e"
      },
      "execution_count": null,
      "outputs": [
        {
          "output_type": "execute_result",
          "data": {
            "text/plain": [
              "9"
            ]
          },
          "metadata": {},
          "execution_count": 39
        }
      ]
    },
    {
      "cell_type": "markdown",
      "source": [
        "oops tutorial in python\n"
      ],
      "metadata": {
        "id": "3AJKrb7v_MGm"
      }
    },
    {
      "cell_type": "code",
      "source": [
        "class car:\n",
        "  def __init__ (self , windows , doors , enginetype):\n",
        "    self.windows = windows\n",
        "    self.doors = doors\n",
        "    self.enginetype = enginetype\n",
        "  def engine_type(self):\n",
        "    return ' the car enginetype is {}'.format(self.enginetype)"
      ],
      "metadata": {
        "id": "umyf-UuH8Nz9"
      },
      "execution_count": null,
      "outputs": []
    },
    {
      "cell_type": "code",
      "source": [
        "car1 = car(4,5,'petrol')"
      ],
      "metadata": {
        "id": "WCD463ceCNtn"
      },
      "execution_count": null,
      "outputs": []
    },
    {
      "cell_type": "code",
      "source": [
        "car1.engine_type()"
      ],
      "metadata": {
        "colab": {
          "base_uri": "https://localhost:8080/",
          "height": 35
        },
        "id": "MtDPn-xkDfrs",
        "outputId": "4f7eb850-dc33-4890-958c-990c737f5c6f"
      },
      "execution_count": null,
      "outputs": [
        {
          "output_type": "execute_result",
          "data": {
            "application/vnd.google.colaboratory.intrinsic+json": {
              "type": "string"
            },
            "text/plain": [
              "' the car enginetype is petrol'"
            ]
          },
          "metadata": {},
          "execution_count": 55
        }
      ]
    },
    {
      "cell_type": "code",
      "source": [
        "car2 = car(3,4,'diesel')"
      ],
      "metadata": {
        "id": "CyJNc2DDCSst"
      },
      "execution_count": null,
      "outputs": []
    },
    {
      "cell_type": "code",
      "source": [
        "car2.engine_type()"
      ],
      "metadata": {
        "colab": {
          "base_uri": "https://localhost:8080/",
          "height": 35
        },
        "id": "xiDNbLTIDrbA",
        "outputId": "a35dcf42-7d13-4970-ec00-6946e76e39a2"
      },
      "execution_count": null,
      "outputs": [
        {
          "output_type": "execute_result",
          "data": {
            "application/vnd.google.colaboratory.intrinsic+json": {
              "type": "string"
            },
            "text/plain": [
              "' the car enginetype is diesel'"
            ]
          },
          "metadata": {},
          "execution_count": 57
        }
      ]
    },
    {
      "cell_type": "code",
      "source": [
        "print(car1.windows)"
      ],
      "metadata": {
        "colab": {
          "base_uri": "https://localhost:8080/"
        },
        "id": "3HXAqFC2CWKJ",
        "outputId": "1a2b1915-3912-40a2-a30e-32a9f50938ce"
      },
      "execution_count": null,
      "outputs": [
        {
          "output_type": "stream",
          "name": "stdout",
          "text": [
            "4\n"
          ]
        }
      ]
    },
    {
      "cell_type": "code",
      "source": [
        "print(car2.enginetype)"
      ],
      "metadata": {
        "colab": {
          "base_uri": "https://localhost:8080/"
        },
        "id": "47i64jm0CiDG",
        "outputId": "1e20497e-a458-4a66-8785-fe7fc6c96ea6"
      },
      "execution_count": null,
      "outputs": [
        {
          "output_type": "stream",
          "name": "stdout",
          "text": [
            "diesel\n"
          ]
        }
      ]
    },
    {
      "cell_type": "code",
      "source": [
        "print(car1.enginetype)"
      ],
      "metadata": {
        "colab": {
          "base_uri": "https://localhost:8080/"
        },
        "id": "Wwcnvwc2Ck55",
        "outputId": "f088ed0b-7a8d-4b20-ea8b-a60cb21c9d0a"
      },
      "execution_count": null,
      "outputs": [
        {
          "output_type": "stream",
          "name": "stdout",
          "text": [
            "petrol\n"
          ]
        }
      ]
    },
    {
      "cell_type": "markdown",
      "source": [
        "Python Exception Handling"
      ],
      "metadata": {
        "id": "tDs3_BbiEVZ5"
      }
    },
    {
      "cell_type": "code",
      "source": [
        " a = b"
      ],
      "metadata": {
        "colab": {
          "base_uri": "https://localhost:8080/",
          "height": 166
        },
        "id": "D4G1bqFeCnZx",
        "outputId": "bbe4d565-a3c9-4689-b068-166331b14e8e"
      },
      "execution_count": null,
      "outputs": [
        {
          "output_type": "error",
          "ename": "NameError",
          "evalue": "ignored",
          "traceback": [
            "\u001b[0;31m---------------------------------------------------------------------------\u001b[0m",
            "\u001b[0;31mNameError\u001b[0m                                 Traceback (most recent call last)",
            "\u001b[0;32m<ipython-input-58-7a6469f55ed0>\u001b[0m in \u001b[0;36m<module>\u001b[0;34m()\u001b[0m\n\u001b[0;32m----> 1\u001b[0;31m \u001b[0ma\u001b[0m \u001b[0;34m=\u001b[0m \u001b[0mb\u001b[0m\u001b[0;34m\u001b[0m\u001b[0;34m\u001b[0m\u001b[0m\n\u001b[0m",
            "\u001b[0;31mNameError\u001b[0m: name 'b' is not defined"
          ]
        }
      ]
    },
    {
      "cell_type": "code",
      "source": [
        "# in the above code it showing pre defined error\n",
        "try:\n",
        "   # code block where exception can occur\n",
        "   a = b\n",
        "except:\n",
        "  print('some error may have occured')"
      ],
      "metadata": {
        "colab": {
          "base_uri": "https://localhost:8080/"
        },
        "id": "MvDhBLIKFwut",
        "outputId": "b785cb0c-e2ee-4175-fd07-1031fd84e426"
      },
      "execution_count": null,
      "outputs": [
        {
          "output_type": "stream",
          "name": "stdout",
          "text": [
            "some error may have occured\n"
          ]
        }
      ]
    },
    {
      "cell_type": "code",
      "source": [
        "try:\n",
        "     a=b\n",
        "except NameError:\n",
        "  print('user has not defined the variable')\n",
        "except Exception as ex:\n",
        "  print(ex)"
      ],
      "metadata": {
        "colab": {
          "base_uri": "https://localhost:8080/"
        },
        "id": "i16PHC0OGB_y",
        "outputId": "b65f01df-25e9-474d-e0ed-de09c0a6eeb6"
      },
      "execution_count": null,
      "outputs": [
        {
          "output_type": "stream",
          "name": "stdout",
          "text": [
            "user has not defined the variable\n"
          ]
        }
      ]
    },
    {
      "cell_type": "code",
      "source": [
        "try:\n",
        "  a=1\n",
        "  b='a'\n",
        "  c = a+b\n",
        "except NameError:\n",
        "  print('user has not defined the variable')\n",
        "except Exception as ex:\n",
        " print(ex)"
      ],
      "metadata": {
        "colab": {
          "base_uri": "https://localhost:8080/"
        },
        "id": "5veNLRdaIl_w",
        "outputId": "2e0ab70f-10b1-4f5c-ac16-1e006d9be3da"
      },
      "execution_count": null,
      "outputs": [
        {
          "output_type": "stream",
          "name": "stdout",
          "text": [
            "unsupported operand type(s) for +: 'int' and 'str'\n"
          ]
        }
      ]
    },
    {
      "cell_type": "code",
      "source": [
        " a=1\n",
        "b='a'\n",
        "c = a+b\n"
      ],
      "metadata": {
        "colab": {
          "base_uri": "https://localhost:8080/",
          "height": 201
        },
        "id": "bD5EbvN4I5EZ",
        "outputId": "73fcc930-53a5-432e-b09d-88d0608e8275"
      },
      "execution_count": null,
      "outputs": [
        {
          "output_type": "error",
          "ename": "TypeError",
          "evalue": "ignored",
          "traceback": [
            "\u001b[0;31m---------------------------------------------------------------------------\u001b[0m",
            "\u001b[0;31mTypeError\u001b[0m                                 Traceback (most recent call last)",
            "\u001b[0;32m<ipython-input-64-2483eec21ab2>\u001b[0m in \u001b[0;36m<module>\u001b[0;34m()\u001b[0m\n\u001b[1;32m      1\u001b[0m \u001b[0ma\u001b[0m\u001b[0;34m=\u001b[0m\u001b[0;36m1\u001b[0m\u001b[0;34m\u001b[0m\u001b[0;34m\u001b[0m\u001b[0m\n\u001b[1;32m      2\u001b[0m \u001b[0mb\u001b[0m\u001b[0;34m=\u001b[0m\u001b[0;34m'a'\u001b[0m\u001b[0;34m\u001b[0m\u001b[0;34m\u001b[0m\u001b[0m\n\u001b[0;32m----> 3\u001b[0;31m \u001b[0mc\u001b[0m \u001b[0;34m=\u001b[0m \u001b[0ma\u001b[0m\u001b[0;34m+\u001b[0m\u001b[0mb\u001b[0m\u001b[0;34m\u001b[0m\u001b[0;34m\u001b[0m\u001b[0m\n\u001b[0m",
            "\u001b[0;31mTypeError\u001b[0m: unsupported operand type(s) for +: 'int' and 'str'"
          ]
        }
      ]
    },
    {
      "cell_type": "code",
      "source": [
        "try:\n",
        "  a=1\n",
        "  b='a'\n",
        "  c =a+b\n",
        "except NameError:\n",
        "  print('user has not defined the variable')\n",
        "except TypeError:\n",
        "  print('try to make the dataype similar')\n",
        "except Exception as ex:\n",
        "  print(ex)"
      ],
      "metadata": {
        "colab": {
          "base_uri": "https://localhost:8080/"
        },
        "id": "9JfNAwv3JJ4i",
        "outputId": "70a1bc29-0334-462c-abb5-6df2aceee71b"
      },
      "execution_count": null,
      "outputs": [
        {
          "output_type": "stream",
          "name": "stdout",
          "text": [
            "try to make the dataype similar\n"
          ]
        }
      ]
    },
    {
      "cell_type": "code",
      "source": [
        "try:\n",
        "   a = int(input('enter the 1st number'))\n",
        "   b = int(input('enter the 2nd number'))\n",
        "   c = a/b\n",
        "   c = a*b\n",
        "   c = a-b\n",
        "   print(a)\n",
        "   print(b)\n",
        "   print(c)\n",
        "except TypeError:\n",
        "  print('try to make the datatype similar')\n",
        "except NameError:\n",
        "  print('user has not defined the variable')\n",
        "except Exception as ex:\n",
        "  print(ex)"
      ],
      "metadata": {
        "colab": {
          "base_uri": "https://localhost:8080/"
        },
        "id": "WRRutWxcJknn",
        "outputId": "3121140a-117f-4498-9f19-04a9e5440922"
      },
      "execution_count": null,
      "outputs": [
        {
          "output_type": "stream",
          "name": "stdout",
          "text": [
            "enter the 1st number12\n",
            "enter the 2nd number0\n",
            "division by zero\n"
          ]
        }
      ]
    },
    {
      "cell_type": "code",
      "source": [
        "a = int(input('enter the 1st number'))\n",
        "b = int(input('enter the 2nd number'))\n",
        "c = a/b"
      ],
      "metadata": {
        "colab": {
          "base_uri": "https://localhost:8080/",
          "height": 236
        },
        "id": "mCTOyEz9LFgo",
        "outputId": "e1536cfc-e970-43a1-e35b-e07c7c5e2fab"
      },
      "execution_count": null,
      "outputs": [
        {
          "name": "stdout",
          "output_type": "stream",
          "text": [
            "enter the 1st number12\n",
            "enter the 2nd number0\n"
          ]
        },
        {
          "output_type": "error",
          "ename": "ZeroDivisionError",
          "evalue": "ignored",
          "traceback": [
            "\u001b[0;31m---------------------------------------------------------------------------\u001b[0m",
            "\u001b[0;31mZeroDivisionError\u001b[0m                         Traceback (most recent call last)",
            "\u001b[0;32m<ipython-input-70-a94fd54908b3>\u001b[0m in \u001b[0;36m<module>\u001b[0;34m()\u001b[0m\n\u001b[1;32m      1\u001b[0m \u001b[0ma\u001b[0m \u001b[0;34m=\u001b[0m \u001b[0mint\u001b[0m\u001b[0;34m(\u001b[0m\u001b[0minput\u001b[0m\u001b[0;34m(\u001b[0m\u001b[0;34m'enter the 1st number'\u001b[0m\u001b[0;34m)\u001b[0m\u001b[0;34m)\u001b[0m\u001b[0;34m\u001b[0m\u001b[0;34m\u001b[0m\u001b[0m\n\u001b[1;32m      2\u001b[0m \u001b[0mb\u001b[0m \u001b[0;34m=\u001b[0m \u001b[0mint\u001b[0m\u001b[0;34m(\u001b[0m\u001b[0minput\u001b[0m\u001b[0;34m(\u001b[0m\u001b[0;34m'enter the 2nd number'\u001b[0m\u001b[0;34m)\u001b[0m\u001b[0;34m)\u001b[0m\u001b[0;34m\u001b[0m\u001b[0;34m\u001b[0m\u001b[0m\n\u001b[0;32m----> 3\u001b[0;31m \u001b[0mc\u001b[0m \u001b[0;34m=\u001b[0m \u001b[0ma\u001b[0m\u001b[0;34m/\u001b[0m\u001b[0mb\u001b[0m\u001b[0;34m\u001b[0m\u001b[0;34m\u001b[0m\u001b[0m\n\u001b[0m",
            "\u001b[0;31mZeroDivisionError\u001b[0m: division by zero"
          ]
        }
      ]
    },
    {
      "cell_type": "code",
      "source": [
        "try:\n",
        "   a = int(input('enter the 1st number'))\n",
        "   b = int(input('enter the second number'))\n",
        "   c = a+b\n",
        "   d = a/b\n",
        "   e = a-b\n",
        "except TypeError:\n",
        "  print('try to make datatype similar')\n",
        "except NameError:\n",
        "  print('user has not defined the datatype')\n",
        "except ZeroDivisionError:\n",
        "  print('denomenator should not be zero please provide number greater than zero')\n",
        "except Exception as ex:\n",
        "  print(ex)\n",
        "\n",
        "else:\n",
        "  print(c)\n",
        "  print(d)\n",
        "  print(e)"
      ],
      "metadata": {
        "colab": {
          "base_uri": "https://localhost:8080/"
        },
        "id": "GydovhLpLWn3",
        "outputId": "636c9ce8-5714-48ff-a0f7-61f9f476b694"
      },
      "execution_count": null,
      "outputs": [
        {
          "output_type": "stream",
          "name": "stdout",
          "text": [
            "enter the 1st number12\n",
            "enter the second number3\n",
            "15\n",
            "4.0\n",
            "9\n"
          ]
        }
      ]
    },
    {
      "cell_type": "markdown",
      "source": [
        "Custom Exception"
      ],
      "metadata": {
        "id": "k5s-9c9fQuwQ"
      }
    },
    {
      "cell_type": "code",
      "source": [
        "class Error(Exception):\n",
        "  pass\n",
        "\n",
        "class dobException(Error):\n",
        "  pass"
      ],
      "metadata": {
        "id": "WTAcATf9MQiH"
      },
      "execution_count": null,
      "outputs": []
    },
    {
      "cell_type": "code",
      "source": [
        "year = int(input('enter the year '))\n",
        "age = 2022 - year\n",
        "if age<=30 & age >21:\n",
        "  print(' the year age is valid you can apply for the exam')\n",
        "else:\n",
        "  raise dobException\n",
        "except dobException:\n",
        "  print('the year age is not valid you can not apply for the exam')\n"
      ],
      "metadata": {
        "id": "7F_VmPMkZZ3K",
        "colab": {
          "base_uri": "https://localhost:8080/",
          "height": 131
        },
        "outputId": "20e15fba-7efb-4f89-9874-ff4a661c4367"
      },
      "execution_count": null,
      "outputs": [
        {
          "output_type": "error",
          "ename": "SyntaxError",
          "evalue": "ignored",
          "traceback": [
            "\u001b[0;36m  File \u001b[0;32m\"<ipython-input-6-c686ab996775>\"\u001b[0;36m, line \u001b[0;32m7\u001b[0m\n\u001b[0;31m    except dobException:\u001b[0m\n\u001b[0m         ^\u001b[0m\n\u001b[0;31mSyntaxError\u001b[0m\u001b[0;31m:\u001b[0m invalid syntax\n"
          ]
        }
      ]
    },
    {
      "cell_type": "markdown",
      "source": [
        "Python oops public , protected , private"
      ],
      "metadata": {
        "id": "HieWddkR_ryt"
      }
    },
    {
      "cell_type": "code",
      "source": [
        "# all the class variables are public\n",
        "class car1:\n",
        "  def __init__(self , windows , doors , enginetype):\n",
        "    self.windows = windows\n",
        "    self.doors = doors\n",
        "    self.enginetype = enginetype"
      ],
      "metadata": {
        "id": "K4Wflpyd9PvU"
      },
      "execution_count": null,
      "outputs": []
    },
    {
      "cell_type": "code",
      "source": [
        "audi = car1(4,5,'petrol')"
      ],
      "metadata": {
        "id": "Di2Yz6I7BlEv"
      },
      "execution_count": null,
      "outputs": []
    },
    {
      "cell_type": "code",
      "source": [
        "audi"
      ],
      "metadata": {
        "colab": {
          "base_uri": "https://localhost:8080/"
        },
        "id": "0k8b1LL6Ce6A",
        "outputId": "7d2ee79c-d410-4ecf-fe03-3aa281305b86"
      },
      "execution_count": null,
      "outputs": [
        {
          "output_type": "execute_result",
          "data": {
            "text/plain": [
              "<__main__.car1 at 0x7f8bbfd73c10>"
            ]
          },
          "metadata": {},
          "execution_count": 10
        }
      ]
    },
    {
      "cell_type": "code",
      "source": [
        "dir(audi)"
      ],
      "metadata": {
        "colab": {
          "base_uri": "https://localhost:8080/"
        },
        "id": "HcreHWm-Crp-",
        "outputId": "a322c4b5-a0e0-4a15-c9f5-02052e14b87e"
      },
      "execution_count": null,
      "outputs": [
        {
          "output_type": "execute_result",
          "data": {
            "text/plain": [
              "['__class__',\n",
              " '__delattr__',\n",
              " '__dict__',\n",
              " '__dir__',\n",
              " '__doc__',\n",
              " '__eq__',\n",
              " '__format__',\n",
              " '__ge__',\n",
              " '__getattribute__',\n",
              " '__gt__',\n",
              " '__hash__',\n",
              " '__init__',\n",
              " '__init_subclass__',\n",
              " '__le__',\n",
              " '__lt__',\n",
              " '__module__',\n",
              " '__ne__',\n",
              " '__new__',\n",
              " '__reduce__',\n",
              " '__reduce_ex__',\n",
              " '__repr__',\n",
              " '__setattr__',\n",
              " '__sizeof__',\n",
              " '__str__',\n",
              " '__subclasshook__',\n",
              " '__weakref__',\n",
              " 'doors',\n",
              " 'enginetype',\n",
              " 'windows']"
            ]
          },
          "metadata": {},
          "execution_count": 11
        }
      ]
    },
    {
      "cell_type": "code",
      "source": [
        "# all the class variables are protected\n",
        "class car1:\n",
        "  def __init__(self , windows , doors , enginetype):\n",
        "    self._windows = windows\n",
        "    self._doors = doors\n",
        "    self._enginetype = enginetype"
      ],
      "metadata": {
        "id": "KBMy4B6TBqfn"
      },
      "execution_count": null,
      "outputs": []
    },
    {
      "cell_type": "code",
      "source": [
        "audi = car1(4,4, 'diesel')"
      ],
      "metadata": {
        "id": "8ppvqYxMDGRD"
      },
      "execution_count": null,
      "outputs": []
    },
    {
      "cell_type": "code",
      "source": [
        "dir(audi)"
      ],
      "metadata": {
        "colab": {
          "base_uri": "https://localhost:8080/"
        },
        "id": "RYZtGsSgDDay",
        "outputId": "e55f27bf-4f8c-44a0-8d78-71fc62b92f4c"
      },
      "execution_count": null,
      "outputs": [
        {
          "output_type": "execute_result",
          "data": {
            "text/plain": [
              "['__class__',\n",
              " '__delattr__',\n",
              " '__dict__',\n",
              " '__dir__',\n",
              " '__doc__',\n",
              " '__eq__',\n",
              " '__format__',\n",
              " '__ge__',\n",
              " '__getattribute__',\n",
              " '__gt__',\n",
              " '__hash__',\n",
              " '__init__',\n",
              " '__init_subclass__',\n",
              " '__le__',\n",
              " '__lt__',\n",
              " '__module__',\n",
              " '__ne__',\n",
              " '__new__',\n",
              " '__reduce__',\n",
              " '__reduce_ex__',\n",
              " '__repr__',\n",
              " '__setattr__',\n",
              " '__sizeof__',\n",
              " '__str__',\n",
              " '__subclasshook__',\n",
              " '__weakref__',\n",
              " '_doors',\n",
              " '_enginetype',\n",
              " '_windows']"
            ]
          },
          "metadata": {},
          "execution_count": 15
        }
      ]
    },
    {
      "cell_type": "code",
      "source": [
        "class truck(car1):\n",
        "  def __init__(self , windows , doors , enginetype , horsepower):\n",
        "    super().__init__(windows , doors , enginetype)\n",
        "    self.horsepower = horsepower"
      ],
      "metadata": {
        "id": "eVl3Voz0DMYx"
      },
      "execution_count": null,
      "outputs": []
    },
    {
      "cell_type": "code",
      "source": [
        "truck = truck(4,4,'diesel' , 4000)"
      ],
      "metadata": {
        "id": "z5Wuj9gGFa-J"
      },
      "execution_count": null,
      "outputs": []
    },
    {
      "cell_type": "code",
      "source": [
        "dir(truck)"
      ],
      "metadata": {
        "colab": {
          "base_uri": "https://localhost:8080/"
        },
        "id": "C4HnlyQmFq75",
        "outputId": "d2b5fcdb-c6a1-436f-c510-7245990d8f12"
      },
      "execution_count": null,
      "outputs": [
        {
          "output_type": "execute_result",
          "data": {
            "text/plain": [
              "['__class__',\n",
              " '__delattr__',\n",
              " '__dict__',\n",
              " '__dir__',\n",
              " '__doc__',\n",
              " '__eq__',\n",
              " '__format__',\n",
              " '__ge__',\n",
              " '__getattribute__',\n",
              " '__gt__',\n",
              " '__hash__',\n",
              " '__init__',\n",
              " '__init_subclass__',\n",
              " '__le__',\n",
              " '__lt__',\n",
              " '__module__',\n",
              " '__ne__',\n",
              " '__new__',\n",
              " '__reduce__',\n",
              " '__reduce_ex__',\n",
              " '__repr__',\n",
              " '__setattr__',\n",
              " '__sizeof__',\n",
              " '__str__',\n",
              " '__subclasshook__',\n",
              " '__weakref__',\n",
              " '_doors',\n",
              " '_enginetype',\n",
              " '_windows',\n",
              " 'horsepower']"
            ]
          },
          "metadata": {},
          "execution_count": 21
        }
      ]
    },
    {
      "cell_type": "code",
      "source": [
        "truck._windows"
      ],
      "metadata": {
        "colab": {
          "base_uri": "https://localhost:8080/"
        },
        "id": "Ht0uPFOQFxYz",
        "outputId": "3303b9cb-4e1a-4dcf-8896-94a42b8e9afc"
      },
      "execution_count": null,
      "outputs": [
        {
          "output_type": "execute_result",
          "data": {
            "text/plain": [
              "4"
            ]
          },
          "metadata": {},
          "execution_count": 22
        }
      ]
    },
    {
      "cell_type": "code",
      "source": [
        "truck._windows = 6"
      ],
      "metadata": {
        "id": "tTwll9jhF16c"
      },
      "execution_count": null,
      "outputs": []
    },
    {
      "cell_type": "code",
      "source": [
        "truck._windows"
      ],
      "metadata": {
        "colab": {
          "base_uri": "https://localhost:8080/"
        },
        "id": "rdu9MInJF6ZA",
        "outputId": "95d8a021-6b40-43a2-e7cb-19f6b1b6fecc"
      },
      "execution_count": null,
      "outputs": [
        {
          "output_type": "execute_result",
          "data": {
            "text/plain": [
              "6"
            ]
          },
          "metadata": {},
          "execution_count": 24
        }
      ]
    },
    {
      "cell_type": "code",
      "source": [
        "# private \n",
        "class car1:\n",
        "  def __init__(self , windows ,doors , enginetype):\n",
        "    self.__windows = windows\n",
        "    self.__doors = doors\n",
        "    self.__enginetype = enginetype"
      ],
      "metadata": {
        "id": "9XHhJossF8PZ"
      },
      "execution_count": null,
      "outputs": []
    },
    {
      "cell_type": "code",
      "source": [
        "audi = car1(5,5,'diesel')"
      ],
      "metadata": {
        "id": "Kod6Lj9mHYM_"
      },
      "execution_count": null,
      "outputs": []
    },
    {
      "cell_type": "code",
      "source": [
        "dir(audi)"
      ],
      "metadata": {
        "colab": {
          "base_uri": "https://localhost:8080/"
        },
        "id": "bIgBG6qZHcA-",
        "outputId": "7a604bb1-9928-4f47-859d-63b270a9456a"
      },
      "execution_count": null,
      "outputs": [
        {
          "output_type": "execute_result",
          "data": {
            "text/plain": [
              "['__class__',\n",
              " '__delattr__',\n",
              " '__dict__',\n",
              " '__dir__',\n",
              " '__doc__',\n",
              " '__eq__',\n",
              " '__format__',\n",
              " '__ge__',\n",
              " '__getattribute__',\n",
              " '__gt__',\n",
              " '__hash__',\n",
              " '__init__',\n",
              " '__init_subclass__',\n",
              " '__le__',\n",
              " '__lt__',\n",
              " '__module__',\n",
              " '__ne__',\n",
              " '__new__',\n",
              " '__reduce__',\n",
              " '__reduce_ex__',\n",
              " '__repr__',\n",
              " '__setattr__',\n",
              " '__sizeof__',\n",
              " '__str__',\n",
              " '__subclasshook__',\n",
              " '__weakref__',\n",
              " '_car1__doors',\n",
              " '_car1__enginetype',\n",
              " '_car1__windows']"
            ]
          },
          "metadata": {},
          "execution_count": 27
        }
      ]
    },
    {
      "cell_type": "code",
      "source": [
        "audi._car1__windows = 10"
      ],
      "metadata": {
        "id": "YKJGr7xFHdNO"
      },
      "execution_count": null,
      "outputs": []
    },
    {
      "cell_type": "code",
      "source": [
        "audi._car1__windows"
      ],
      "metadata": {
        "colab": {
          "base_uri": "https://localhost:8080/"
        },
        "id": "knIPZ_g7HpRy",
        "outputId": "b1af92e1-ccc9-439a-d2f8-546b2f2744ff"
      },
      "execution_count": null,
      "outputs": [
        {
          "output_type": "execute_result",
          "data": {
            "text/plain": [
              "10"
            ]
          },
          "metadata": {},
          "execution_count": 30
        }
      ]
    },
    {
      "cell_type": "markdown",
      "source": [
        "Inheritance"
      ],
      "metadata": {
        "id": "c59ca1mIQuQ_"
      }
    },
    {
      "cell_type": "code",
      "source": [
        "class Car():\n",
        "  def __init__(self , windows , doors , enginetype):\n",
        "    self.windows = windows\n",
        "    self.doors = doors\n",
        "    self.enginetype = enginetype\n",
        "  def drive(self):\n",
        "    print('the person drives the car')"
      ],
      "metadata": {
        "id": "rV8aFg0VHz4Z"
      },
      "execution_count": 15,
      "outputs": []
    },
    {
      "cell_type": "code",
      "source": [
        "car = Car(4,5,'diesel')"
      ],
      "metadata": {
        "id": "cIwkO9KYRU-w"
      },
      "execution_count": 16,
      "outputs": []
    },
    {
      "cell_type": "code",
      "source": [
        "dir(car)"
      ],
      "metadata": {
        "colab": {
          "base_uri": "https://localhost:8080/"
        },
        "id": "i3MQSEmvRddI",
        "outputId": "7c52ae4b-7d05-46c8-988c-84b38f2abca6"
      },
      "execution_count": 17,
      "outputs": [
        {
          "output_type": "execute_result",
          "data": {
            "text/plain": [
              "['__class__',\n",
              " '__delattr__',\n",
              " '__dict__',\n",
              " '__dir__',\n",
              " '__doc__',\n",
              " '__eq__',\n",
              " '__format__',\n",
              " '__ge__',\n",
              " '__getattribute__',\n",
              " '__gt__',\n",
              " '__hash__',\n",
              " '__init__',\n",
              " '__init_subclass__',\n",
              " '__le__',\n",
              " '__lt__',\n",
              " '__module__',\n",
              " '__ne__',\n",
              " '__new__',\n",
              " '__reduce__',\n",
              " '__reduce_ex__',\n",
              " '__repr__',\n",
              " '__setattr__',\n",
              " '__sizeof__',\n",
              " '__str__',\n",
              " '__subclasshook__',\n",
              " '__weakref__',\n",
              " 'doors',\n",
              " 'drive',\n",
              " 'enginetype',\n",
              " 'windows']"
            ]
          },
          "metadata": {},
          "execution_count": 17
        }
      ]
    },
    {
      "cell_type": "code",
      "source": [
        "car.windows"
      ],
      "metadata": {
        "colab": {
          "base_uri": "https://localhost:8080/"
        },
        "id": "-ty5aMMFRxOT",
        "outputId": "571175d8-c76c-4b28-c7ad-a9da4f32a8eb"
      },
      "execution_count": 18,
      "outputs": [
        {
          "output_type": "execute_result",
          "data": {
            "text/plain": [
              "4"
            ]
          },
          "metadata": {},
          "execution_count": 18
        }
      ]
    },
    {
      "cell_type": "code",
      "source": [
        "car.drive()"
      ],
      "metadata": {
        "colab": {
          "base_uri": "https://localhost:8080/"
        },
        "id": "pmCQdEQuR6yj",
        "outputId": "c381e0a0-a177-4754-a130-d489a855937c"
      },
      "execution_count": 19,
      "outputs": [
        {
          "output_type": "stream",
          "name": "stdout",
          "text": [
            "the person drives the car\n"
          ]
        }
      ]
    },
    {
      "cell_type": "code",
      "source": [
        "class audi(Car):\n",
        "  def __init__(self , windows , doors , enginetype , enableai):\n",
        "    super().__init__(windows , doors , enginetype)\n",
        "    self.enableai = enableai\n",
        "  def selfdriving(self):\n",
        "    print('audi supports self driving')\n"
      ],
      "metadata": {
        "id": "tOJ5mbuMSSjr"
      },
      "execution_count": 20,
      "outputs": []
    },
    {
      "cell_type": "code",
      "source": [
        "audiQ7 = audi(4 , 5 , 'diesel' , True)"
      ],
      "metadata": {
        "id": "cLRJRF5tUvEe"
      },
      "execution_count": 29,
      "outputs": []
    },
    {
      "cell_type": "code",
      "source": [
        "audiQ7.selfdriving()"
      ],
      "metadata": {
        "colab": {
          "base_uri": "https://localhost:8080/"
        },
        "id": "5PVzwjK-U3Cw",
        "outputId": "bb772b8c-43fb-4898-959e-b9584eb275bd"
      },
      "execution_count": 22,
      "outputs": [
        {
          "output_type": "stream",
          "name": "stdout",
          "text": [
            "audi supports self driving\n"
          ]
        }
      ]
    },
    {
      "cell_type": "code",
      "source": [
        "dir(audiQ7)"
      ],
      "metadata": {
        "colab": {
          "base_uri": "https://localhost:8080/"
        },
        "id": "xQiSn8_AU6SY",
        "outputId": "b0861010-2aa9-497d-a8b6-29a9f0ad3c18"
      },
      "execution_count": 23,
      "outputs": [
        {
          "output_type": "execute_result",
          "data": {
            "text/plain": [
              "['__class__',\n",
              " '__delattr__',\n",
              " '__dict__',\n",
              " '__dir__',\n",
              " '__doc__',\n",
              " '__eq__',\n",
              " '__format__',\n",
              " '__ge__',\n",
              " '__getattribute__',\n",
              " '__gt__',\n",
              " '__hash__',\n",
              " '__init__',\n",
              " '__init_subclass__',\n",
              " '__le__',\n",
              " '__lt__',\n",
              " '__module__',\n",
              " '__ne__',\n",
              " '__new__',\n",
              " '__reduce__',\n",
              " '__reduce_ex__',\n",
              " '__repr__',\n",
              " '__setattr__',\n",
              " '__sizeof__',\n",
              " '__str__',\n",
              " '__subclasshook__',\n",
              " '__weakref__',\n",
              " 'doors',\n",
              " 'drive',\n",
              " 'enableai',\n",
              " 'enginetype',\n",
              " 'selfdriving',\n",
              " 'windows']"
            ]
          },
          "metadata": {},
          "execution_count": 23
        }
      ]
    },
    {
      "cell_type": "code",
      "source": [
        "audiQ7.windows"
      ],
      "metadata": {
        "colab": {
          "base_uri": "https://localhost:8080/"
        },
        "id": "yi3RbFPpU_6a",
        "outputId": "2d3d4606-d0b8-4882-fa9f-e2cfd573edfa"
      },
      "execution_count": 24,
      "outputs": [
        {
          "output_type": "execute_result",
          "data": {
            "text/plain": [
              "4"
            ]
          },
          "metadata": {},
          "execution_count": 24
        }
      ]
    },
    {
      "cell_type": "code",
      "source": [
        "audiQ7.doors"
      ],
      "metadata": {
        "colab": {
          "base_uri": "https://localhost:8080/"
        },
        "id": "dtfVgxg1VQ09",
        "outputId": "ed46d0db-7dbf-4772-ecb9-8958c6d5443a"
      },
      "execution_count": 25,
      "outputs": [
        {
          "output_type": "execute_result",
          "data": {
            "text/plain": [
              "5"
            ]
          },
          "metadata": {},
          "execution_count": 25
        }
      ]
    },
    {
      "cell_type": "code",
      "source": [
        "audiQ7.enableai"
      ],
      "metadata": {
        "colab": {
          "base_uri": "https://localhost:8080/",
          "height": 35
        },
        "id": "F8k-hiGqVSxb",
        "outputId": "5c4b837e-d672-4de4-f43e-0b9e60636cd5"
      },
      "execution_count": 26,
      "outputs": [
        {
          "output_type": "execute_result",
          "data": {
            "application/vnd.google.colaboratory.intrinsic+json": {
              "type": "string"
            },
            "text/plain": [
              "'True'"
            ]
          },
          "metadata": {},
          "execution_count": 26
        }
      ]
    },
    {
      "cell_type": "code",
      "source": [
        "type(audiQ7.enableai)"
      ],
      "metadata": {
        "colab": {
          "base_uri": "https://localhost:8080/"
        },
        "id": "6pwyBSxkVU8W",
        "outputId": "c2b71ed6-c979-449f-b9f4-6ebe46faa6ce"
      },
      "execution_count": 30,
      "outputs": [
        {
          "output_type": "execute_result",
          "data": {
            "text/plain": [
              "bool"
            ]
          },
          "metadata": {},
          "execution_count": 30
        }
      ]
    },
    {
      "cell_type": "code",
      "source": [
        "audiQ7.drive()"
      ],
      "metadata": {
        "colab": {
          "base_uri": "https://localhost:8080/"
        },
        "id": "QsT33AVjVXZJ",
        "outputId": "57a4240e-cfc2-4951-f744-dccc7385bc8f"
      },
      "execution_count": 32,
      "outputs": [
        {
          "output_type": "stream",
          "name": "stdout",
          "text": [
            "the person drives the car\n"
          ]
        }
      ]
    },
    {
      "cell_type": "code",
      "source": [
        "audiQ7.selfdriving()"
      ],
      "metadata": {
        "colab": {
          "base_uri": "https://localhost:8080/"
        },
        "id": "xmcLySeyVnHb",
        "outputId": "8a439772-1b1c-4f70-d8a2-0d614238ab64"
      },
      "execution_count": 33,
      "outputs": [
        {
          "output_type": "stream",
          "name": "stdout",
          "text": [
            "audi supports self driving\n"
          ]
        }
      ]
    },
    {
      "cell_type": "code",
      "source": [
        ""
      ],
      "metadata": {
        "id": "boOXWh6VVrDW"
      },
      "execution_count": null,
      "outputs": []
    }
  ]
}